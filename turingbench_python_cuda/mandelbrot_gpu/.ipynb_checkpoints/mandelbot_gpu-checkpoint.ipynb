{
 "cells": [
  {
   "cell_type": "markdown",
   "metadata": {},
   "source": [
    "Python code: [mandelbrot_gpu.py](https://github.com/edwardchalstrey1/turingbench/blob/master/turingbench_python_cuda/mandelbrot_gpu/mandelbrot_gpu.py) - creates mandelbrot image, using GPU, see how the non-GPU version looks [in this notebook](https://github.com/edwardchalstrey1/turingbench/blob/master/turingbench_python_cuda/simple_mandelbrot/mandelbrot%20time%20container.ipynb)."
   ]
  },
  {
   "cell_type": "markdown",
   "metadata": {},
   "source": [
    "The below Dockerfile is modified from: https://github.com/Luke035/nvidia-anaconda-docker/blob/master/Dockerfile\n",
    "\n",
    "```docker build -t edwardchalstrey/mandelbrot_gpu .```"
   ]
  },
  {
   "cell_type": "code",
   "execution_count": 1,
   "metadata": {},
   "outputs": [
    {
     "name": "stdout",
     "output_type": "stream",
     "text": [
      "Overwriting Dockerfile\n"
     ]
    }
   ],
   "source": [
    "%%writefile Dockerfile\n",
    "FROM nvidia/cuda:9.0-cudnn7-runtime-ubuntu16.04\n",
    "\n",
    "RUN  apt-get update \\\n",
    "  && apt-get install -y wget vim bzip2\\\n",
    "  && rm -rf /var/lib/apt/lists/*\n",
    "\n",
    "RUN apt-get update\n",
    "RUN apt-get -y install curl\n",
    "\n",
    "#Install MINICONDA\n",
    "RUN wget https://repo.continuum.io/miniconda/Miniconda3-latest-Linux-x86_64.sh -O Miniconda.sh && \\\n",
    "    /bin/bash Miniconda.sh -b -p /opt/conda && \\\n",
    "    rm Miniconda.sh\n",
    "\n",
    "ENV PATH /opt/conda/bin:$PATH\n",
    "\n",
    "RUN conda install numpy scipy matplotlib numba cudatoolkit=9.0 pyculib -y\n",
    "\n",
    "COPY mandelbrot_gpu.py /mandelbrot_gpu.py\n",
    "\n",
    "CMD python3 mandelbrot_gpu.py"
   ]
  },
  {
   "cell_type": "code",
   "execution_count": 5,
   "metadata": {},
   "outputs": [
    {
     "name": "stdout",
     "output_type": "stream",
     "text": [
      "Overwriting Singularity.mandelbrot_gpu\n"
     ]
    }
   ],
   "source": [
    "%%writefile Singularity.mandelbrot_gpu\n",
    "BootStrap: docker \n",
    "From: edwardchalstrey/mandelbrot_gpu\n",
    "\n",
    "%post\n",
    "    apt-get -y update\n",
    "\n",
    "%files      \n",
    "    mandelbrot_gpu.py /mandelbrot_gpu.py"
   ]
  },
  {
   "cell_type": "markdown",
   "metadata": {},
   "source": [
    "Singularity container needs to be run in the same dir as a file called ```mandelbrot_gpu.py``` for it to run this way"
   ]
  },
  {
   "cell_type": "code",
   "execution_count": 1,
   "metadata": {},
   "outputs": [
    {
     "name": "stdout",
     "output_type": "stream",
     "text": [
      "Overwriting jade_sub.sh\n"
     ]
    }
   ],
   "source": [
    "%%writefile jade_sub.sh\n",
    "#!/bin/bash\n",
    "\n",
    "# set the number of nodes\n",
    "#SBATCH --nodes=1\n",
    "\n",
    "# set max wallclock time\n",
    "#SBATCH --time=00:30:00\n",
    "\n",
    "# set name of job\n",
    "#SBATCH --job-name=echalstrey_singularity_cuda_test1\n",
    "\n",
    "# set number of GPUs\n",
    "#SBATCH --gres=gpu:4\n",
    "\n",
    "# mail alert at start, end and abortion of execution\n",
    "#SBATCH --mail-type=ALL\n",
    "\n",
    "# send mail to this address\n",
    "#SBATCH --mail-user=echalstrey@turing.ac.uk\n",
    "\n",
    "# run the application\n",
    "module load singularity\n",
    "singularity run --nv shub://singularity-hub.org/edwardchalstrey1/turingbench:mandelbrot_gpu"
   ]
  },
  {
   "cell_type": "markdown",
   "metadata": {},
   "source": [
    "The Docker image has been built and pushed to [Docker Hub](https://cloud.docker.com/u/edwardchalstrey/repository/docker/edwardchalstrey/mandelbrot_gpu):\n",
    "\n",
    "1. ```docker build -t edwardchalstrey/mandelbrot_gpu .```\n",
    "2. ```docker push edwardchalstrey/mandelbrot_gpu```\n",
    "\n",
    "Then can be run with Docker: ```docker run edwardchalstrey/mandelbrot_gpu```\n",
    "\n",
    "Singularity Commands to build from the Docker Hub image and run:\n",
    "\n",
    "1. ```singularity build mandelbrot_gpu.sif Singularity.mandelbrot_gpu```\n",
    "2. ```singularity run --nv mandelbrot_gpu.sif```\n",
    "\n",
    "*Note, building singularity images appear to take up a lot of storage and might be difficult on Azure VMs with the default 30GB*\n",
    "\n",
    "I have also built with Singularity Hub from the turingbench repo, so can be run from there:\n",
    "\n",
    "```singularity run shub://singularity-hub.org/edwardchalstrey1/turingbench:mandelbrot_gpu```\n",
    "\n",
    "In JADE: \n",
    "```chmod +x jade_sub.sh```\n",
    "\n",
    "```srun --gres=gpu:1 -p small --pty jade_sub.sh```"
   ]
  },
  {
   "cell_type": "markdown",
   "metadata": {},
   "source": [
    "| Platform  | Container  | Mandelbrot creation time in s  |\n",
    "|---|---|---|\n",
    "| Azure (Nvidia K80)  | Docker  | 5.369710  |\n",
    "| Azure (Nvidia K80)  | Singularity 3.2  | 5.734466  |\n",
    "| CSD3 (Nvidia V100)  | Singularity  |   |\n",
    "| JADE (Nvidia P100)  | Singularity 2.4 | 0.934607  |"
   ]
  }
 ],
 "metadata": {
  "kernelspec": {
   "display_name": "Python 3",
   "language": "python",
   "name": "python3"
  },
  "language_info": {
   "codemirror_mode": {
    "name": "ipython",
    "version": 3
   },
   "file_extension": ".py",
   "mimetype": "text/x-python",
   "name": "python",
   "nbconvert_exporter": "python",
   "pygments_lexer": "ipython3",
   "version": "3.7.1"
  }
 },
 "nbformat": 4,
 "nbformat_minor": 2
}
