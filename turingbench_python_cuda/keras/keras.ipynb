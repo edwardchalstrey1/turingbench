{
 "cells": [
  {
   "cell_type": "markdown",
   "metadata": {},
   "source": [
    "```sudo singularity build keras.sif Singularity.keras-py3```\n",
    "\n",
    "```sudo chmod +x mnist_test.py```\n",
    "\n",
    "```sudo singularity exec --nv keras.sif python3 mnist_test.py```\n",
    "\n",
    "Copied from https://github.com/NIH-HPC/singularity-examples/tree/master/keras"
   ]
  },
  {
   "cell_type": "code",
   "execution_count": null,
   "metadata": {},
   "outputs": [],
   "source": []
  }
 ],
 "metadata": {
  "kernelspec": {
   "display_name": "Python 3",
   "language": "python",
   "name": "python3"
  },
  "language_info": {
   "codemirror_mode": {
    "name": "ipython",
    "version": 3
   },
   "file_extension": ".py",
   "mimetype": "text/x-python",
   "name": "python",
   "nbconvert_exporter": "python",
   "pygments_lexer": "ipython3",
   "version": "3.6.8"
  }
 },
 "nbformat": 4,
 "nbformat_minor": 2
}
